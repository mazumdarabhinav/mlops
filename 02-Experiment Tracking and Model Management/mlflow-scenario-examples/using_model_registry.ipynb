{
 "cells": [
  {
   "cell_type": "code",
   "execution_count": 10,
   "metadata": {},
   "outputs": [],
   "source": [
    "from mlflow.tracking import MlflowClient\n",
    "from mlflow.entities import ViewType\n",
    "MLFLOW_TRACKING_URI = \"sqlite:///mlflow.db\"\n",
    "\n",
    "client = MlflowClient(tracking_uri=MLFLOW_TRACKING_URI)"
   ]
  },
  {
   "cell_type": "markdown",
   "metadata": {},
   "source": [
    "# Search Expriments"
   ]
  },
  {
   "cell_type": "code",
   "execution_count": 11,
   "metadata": {},
   "outputs": [
    {
     "data": {
      "text/plain": [
       "[<Experiment: artifact_location=('/Users/abhinav/Documents/workbench/personal/mlops/02-Experiment Tracking and '\n",
       "  'Model Management/mlflow-scenario-examples/mlruns/2'), creation_time=1685460741764, experiment_id='2', last_update_time=1685460741764, lifecycle_stage='active', name='my-experiment', tags={}>,\n",
       " <Experiment: artifact_location=('/Users/abhinav/Documents/workbench/personal/mlops/02-Experiment Tracking and '\n",
       "  'Model Management/mlflow-scenario-examples/mlruns/1'), creation_time=1685004904968, experiment_id='1', last_update_time=1685004904968, lifecycle_stage='active', name='nyc-taxi-experiment', tags={}>,\n",
       " <Experiment: artifact_location='mlflow-artifacts:/0', creation_time=1685004651499, experiment_id='0', last_update_time=1685004651499, lifecycle_stage='active', name='Default', tags={}>]"
      ]
     },
     "execution_count": 11,
     "metadata": {},
     "output_type": "execute_result"
    }
   ],
   "source": [
    "client.search_experiments()"
   ]
  },
  {
   "attachments": {},
   "cell_type": "markdown",
   "metadata": {},
   "source": [
    "# Create Experiments"
   ]
  },
  {
   "cell_type": "code",
   "execution_count": 15,
   "metadata": {},
   "outputs": [
    {
     "name": "stdout",
     "output_type": "stream",
     "text": [
      "experiments already exists\n"
     ]
    }
   ],
   "source": [
    "try:\n",
    "    client.create_experiment(name=\"my-experiment\")\n",
    "except Exception:\n",
    "    print(\"experiments already exists\")"
   ]
  },
  {
   "attachments": {},
   "cell_type": "markdown",
   "metadata": {},
   "source": [
    "# Advanced Search for an Runs in an Experiment"
   ]
  },
  {
   "cell_type": "code",
   "execution_count": 14,
   "metadata": {},
   "outputs": [
    {
     "name": "stdout",
     "output_type": "stream",
     "text": [
      "run id: c9f18d06bead4f3b8a66837015e5081b, rmse: 6.3862\n",
      "run id: 0031621a93ae48ff91195a2628a37201, rmse: 6.3862\n",
      "run id: 718ab510c5e844e6ae3d0d9654424f29, rmse: 6.3862\n",
      "run id: eef4709501654f3a8d07c992e553b46b, rmse: 6.3862\n",
      "run id: 0bc63c3bb63a4dd5b7c454f71c09f3c0, rmse: 6.3862\n"
     ]
    }
   ],
   "source": [
    "runs = client.search_runs(\n",
    "    experiment_ids='1',\n",
    "    filter_string=\"metrics.rmse < 7\",\n",
    "    run_view_type=ViewType.ACTIVE_ONLY,\n",
    "    max_results=5,\n",
    "    order_by=[\"metrics.rmse ASC\"]\n",
    ")\n",
    "\n",
    "for run in runs:\n",
    "    print(f\"run id: {run.info.run_id}, rmse: {run.data.metrics['rmse']:.4f}\")"
   ]
  },
  {
   "cell_type": "markdown",
   "metadata": {},
   "source": [
    "# Interacting with Model Registry"
   ]
  },
  {
   "attachments": {},
   "cell_type": "markdown",
   "metadata": {},
   "source": [
    "In this section We will use the MlflowClient instance to:\n",
    "\n",
    "* Register a new version for the model nyc-taxi-regressor\n",
    "\n",
    "* Retrieve the latests versions of the model nyc-taxi-regressor and check that a new version 2 was created.\n",
    "\n",
    "* Transition the version 2 to \"Staging\" and adding annotations to it."
   ]
  },
  {
   "cell_type": "markdown",
   "metadata": {},
   "source": [
    "### Register a new version of the the model nyc-taxi-regressor"
   ]
  },
  {
   "cell_type": "code",
   "execution_count": 16,
   "metadata": {},
   "outputs": [],
   "source": [
    "import mlflow\n",
    "\n",
    "mlflow.set_tracking_uri(MLFLOW_TRACKING_URI)"
   ]
  },
  {
   "cell_type": "code",
   "execution_count": 17,
   "metadata": {},
   "outputs": [
    {
     "name": "stderr",
     "output_type": "stream",
     "text": [
      "Registered model 'nyc-taxi-regressor' already exists. Creating a new version of this model...\n",
      "2023/05/30 23:16:13 INFO mlflow.tracking._model_registry.client: Waiting up to 300 seconds for model version to finish creation. Model name: nyc-taxi-regressor, version 2\n",
      "Created version '2' of model 'nyc-taxi-regressor'.\n"
     ]
    },
    {
     "data": {
      "text/plain": [
       "<ModelVersion: aliases=[], creation_timestamp=1685468773581, current_stage='None', description=None, last_updated_timestamp=1685468773581, name='nyc-taxi-regressor', run_id='718ab510c5e844e6ae3d0d9654424f29', run_link=None, source=('/Users/abhinav/Documents/workbench/personal/mlops/02-Experiment Tracking and '\n",
       " 'Model '\n",
       " 'Management/mlflow-scenario-examples/mlruns/1/718ab510c5e844e6ae3d0d9654424f29/artifacts/models_mlflow'), status='READY', status_message=None, tags={}, user_id=None, version=2>"
      ]
     },
     "execution_count": 17,
     "metadata": {},
     "output_type": "execute_result"
    }
   ],
   "source": [
    "run_id = \"718ab510c5e844e6ae3d0d9654424f29\"\n",
    "model_uri = f\"runs:/{run_id}/models_mlflow\"\n",
    "mlflow.register_model(model_uri=model_uri, name=\"nyc-taxi-regressor\")"
   ]
  },
  {
   "attachments": {},
   "cell_type": "markdown",
   "metadata": {},
   "source": [
    "### Get all version of a model"
   ]
  },
  {
   "cell_type": "code",
   "execution_count": 28,
   "metadata": {},
   "outputs": [
    {
     "name": "stdout",
     "output_type": "stream",
     "text": [
      "version: 2 stage: Staging\n"
     ]
    }
   ],
   "source": [
    "model_name = \"nyc-taxi-regressor\"\n",
    "latest_version = client.get_latest_versions(name=model_name)\n",
    "\n",
    "for version in latest_version:\n",
    "    print(f\"version: {version.version} stage: {version.current_stage}\")\n"
   ]
  },
  {
   "cell_type": "markdown",
   "metadata": {},
   "source": [
    "### Transition model stage"
   ]
  },
  {
   "cell_type": "code",
   "execution_count": 31,
   "metadata": {},
   "outputs": [
    {
     "data": {
      "text/plain": [
       "<ModelVersion: aliases=[], creation_timestamp=1685468773581, current_stage='Staging', description=('The Model Version <ModelVersion: aliases=[], '\n",
       " \"creation_timestamp=1685468773581, current_stage='Staging', description=None, \"\n",
       " \"last_updated_timestamp=1685469399675, name='nyc-taxi-regressor', \"\n",
       " \"run_id='718ab510c5e844e6ae3d0d9654424f29', run_link=None, \"\n",
       " \"source=('/Users/abhinav/Documents/workbench/personal/mlops/02-Experiment \"\n",
       " \"Tracking and '\\n\"\n",
       " \" 'Model '\\n\"\n",
       " ' '\n",
       " \"'Management/mlflow-scenario-examples/mlruns/1/718ab510c5e844e6ae3d0d9654424f29/artifacts/models_mlflow'), \"\n",
       " \"status='READY', status_message=None, tags={}, user_id=None, version=2> was \"\n",
       " 'transitioned'), last_updated_timestamp=1685469974638, name='nyc-taxi-regressor', run_id='718ab510c5e844e6ae3d0d9654424f29', run_link=None, source=('/Users/abhinav/Documents/workbench/personal/mlops/02-Experiment Tracking and '\n",
       " 'Model '\n",
       " 'Management/mlflow-scenario-examples/mlruns/1/718ab510c5e844e6ae3d0d9654424f29/artifacts/models_mlflow'), status='READY', status_message=None, tags={}, user_id=None, version=2>"
      ]
     },
     "execution_count": 31,
     "metadata": {},
     "output_type": "execute_result"
    }
   ],
   "source": [
    "model_version = 2\n",
    "new_stage = \"Staging\"\n",
    "client.transition_model_version_stage(\n",
    "    name=model_name,\n",
    "    version=model_version,\n",
    "    stage=new_stage,\n",
    "    archive_existing_versions=False\n",
    ")"
   ]
  },
  {
   "cell_type": "markdown",
   "metadata": {},
   "source": [
    "### Update Model Version"
   ]
  },
  {
   "cell_type": "code",
   "execution_count": 32,
   "metadata": {},
   "outputs": [
    {
     "data": {
      "text/plain": [
       "<ModelVersion: aliases=[], creation_timestamp=1685468773581, current_stage='Staging', description='The Model Version 2 was transitioned to Staging on 2023-05-30', last_updated_timestamp=1685469976548, name='nyc-taxi-regressor', run_id='718ab510c5e844e6ae3d0d9654424f29', run_link=None, source=('/Users/abhinav/Documents/workbench/personal/mlops/02-Experiment Tracking and '\n",
       " 'Model '\n",
       " 'Management/mlflow-scenario-examples/mlruns/1/718ab510c5e844e6ae3d0d9654424f29/artifacts/models_mlflow'), status='READY', status_message=None, tags={}, user_id=None, version=2>"
      ]
     },
     "execution_count": 32,
     "metadata": {},
     "output_type": "execute_result"
    }
   ],
   "source": [
    "from datetime import datetime\n",
    "\n",
    "date = datetime.today().date()\n",
    "\n",
    "client.update_model_version(\n",
    "    name=model_name,\n",
    "    version=model_version,\n",
    "    description=f\"The Model Version {model_version} was transitioned to {new_stage} on {date}\"\n",
    ")"
   ]
  },
  {
   "cell_type": "markdown",
   "metadata": {},
   "source": [
    "### Move version 1 to production"
   ]
  },
  {
   "cell_type": "code",
   "execution_count": 33,
   "metadata": {},
   "outputs": [
    {
     "data": {
      "text/plain": [
       "<ModelVersion: aliases=[], creation_timestamp=1685026054809, current_stage='Production', description='', last_updated_timestamp=1685470051797, name='nyc-taxi-regressor', run_id='c9f18d06bead4f3b8a66837015e5081b', run_link='', source=('/Users/abhinav/Documents/workbench/personal/mlops/02-Experiment Tracking and '\n",
       " 'Model '\n",
       " 'Management/mlflow-scenario-examples/mlruns/1/c9f18d06bead4f3b8a66837015e5081b/artifacts/models_mlflow'), status='READY', status_message=None, tags={'model': 'xgboost'}, user_id=None, version=1>"
      ]
     },
     "execution_count": 33,
     "metadata": {},
     "output_type": "execute_result"
    }
   ],
   "source": [
    "model_version = 1\n",
    "new_stage = \"Production\"\n",
    "client.transition_model_version_stage(\n",
    "    name=model_name,\n",
    "    version=model_version,\n",
    "    stage=new_stage,\n",
    "    archive_existing_versions=False\n",
    ")"
   ]
  },
  {
   "attachments": {},
   "cell_type": "markdown",
   "metadata": {},
   "source": [
    "## Comparing versions and selecting the new \"Production\" model\n",
    "\n",
    "In the last section, we will retrieve models registered in the model registry and compare their performance on an unseen test set. The idea is to simulate the scenario in which a deployment engineer has to interact with the model registry to decide whether to update the model version that is in production or not.\n",
    "\n",
    "These are the steps:\n",
    "\n",
    "* Load the test dataset, which corresponds to the NYC Green Taxi data from the month of March 2021.\n",
    "* Download the DictVectorizer that was fitted using the training data and saved to MLflow as an artifact, and load it with pickle.\n",
    "* Preprocess the test set using the DictVectorizer so we can properly feed the regressors.\n",
    "* Make predictions on the test set using the model versions that are currently in the \"Staging\" and \"Production\" stages, and compare their performance.\n",
    "* Based on the results, update the \"Production\" model version accordingly.\n",
    "\n",
    "**Note: the model registry doesn't actually deploy the model to production when you transition a model to the \"Production\" stage, it just assign a label to that model version. You should complement the registry with some CI/CD code that does the actual deployment.**"
   ]
  },
  {
   "cell_type": "code",
   "execution_count": 38,
   "metadata": {},
   "outputs": [],
   "source": [
    "from sklearn.metrics import mean_squared_error\n",
    "import pandas as pd\n",
    "\n",
    "def read_dataframe(filename):\n",
    "    df = pd.read_parquet(filename)\n",
    "\n",
    "    df.lpep_dropoff_datetime = pd.to_datetime(df.lpep_dropoff_datetime)\n",
    "    df.lpep_pickup_datetime = pd.to_datetime(df.lpep_pickup_datetime)\n",
    "\n",
    "    df['duration'] = df.lpep_dropoff_datetime - df.lpep_pickup_datetime\n",
    "    df.duration = df.duration.apply(lambda td: td.total_seconds() / 60)\n",
    "\n",
    "    df = df[(df.duration >= 1) & (df.duration <= 60)]\n",
    "\n",
    "    categorical = ['PULocationID', 'DOLocationID']\n",
    "    df[categorical] = df[categorical].astype(str)\n",
    "    \n",
    "    return df\n",
    "\n",
    "def preprocess(df, dv):\n",
    "    df['PU_DO'] = df['PULocationID'] + '_' + df['DOLocationID']\n",
    "    categorical = ['PU_DO']\n",
    "    numerical = ['trip_distance']\n",
    "    train_dicts = df[categorical + numerical].to_dict(orient='records')\n",
    "    return dv.transform(train_dicts)\n",
    "\n",
    "def test_model(name, stage, X_test, y_test):\n",
    "    model = mlflow.pyfunc.load_model(f\"models:/{name}/{stage}\")\n",
    "    y_pred = model.predict(X_test)\n",
    "    return {\"rmse\": mean_squared_error(y_test, y_pred, squared=False)}"
   ]
  },
  {
   "cell_type": "code",
   "execution_count": 40,
   "metadata": {},
   "outputs": [
    {
     "name": "stderr",
     "output_type": "stream",
     "text": [
      "/var/folders/n2/3bkmj5ts56lg664b2cgfcr2m0000gn/T/ipykernel_15029/2031873194.py:3: FutureWarning: ``mlflow.tracking.client.MlflowClient.download_artifacts`` is deprecated since 2.0. This method will be removed in a future release. Use ``mlflow.artifacts.download_artifacts`` instead.\n",
      "  client.download_artifacts(run_id=run_id, path=\"preprocessor\", dst_path=\".\")\n"
     ]
    },
    {
     "data": {
      "text/plain": [
       "'/Users/abhinav/Documents/workbench/personal/mlops/02-Experiment Tracking and Model Management/mlflow-scenario-examples/preprocessor'"
      ]
     },
     "execution_count": 40,
     "metadata": {},
     "output_type": "execute_result"
    }
   ],
   "source": [
    "df = read_dataframe(\"../../data/green_tripdata_2021-03.parquet\")\n",
    "run_id = \"c9f18d06bead4f3b8a66837015e5081b\"\n",
    "client.download_artifacts(run_id=run_id, path=\"preprocessor\", dst_path=\".\")"
   ]
  },
  {
   "cell_type": "code",
   "execution_count": 41,
   "metadata": {},
   "outputs": [],
   "source": [
    "import pickle\n",
    "\n",
    "with open(\"./preprocessor/preprocessor.b\", \"rb\") as f_in:\n",
    "    dv = pickle.load(f_in)"
   ]
  },
  {
   "cell_type": "code",
   "execution_count": 42,
   "metadata": {},
   "outputs": [],
   "source": [
    "X_test = preprocess(df, dv)"
   ]
  },
  {
   "cell_type": "code",
   "execution_count": 43,
   "metadata": {},
   "outputs": [],
   "source": [
    "target = \"duration\"\n",
    "y_test = df[target].values"
   ]
  },
  {
   "cell_type": "code",
   "execution_count": 45,
   "metadata": {},
   "outputs": [
    {
     "name": "stderr",
     "output_type": "stream",
     "text": [
      "2023/05/30 23:56:09 WARNING mlflow.pyfunc: Detected one or more mismatches between the model's dependencies and the current Python environment:\n",
      " - mlflow (current: 2.3.2, required: mlflow==2.3)\n",
      "To fix the mismatches, call `mlflow.pyfunc.get_model_dependencies(model_uri)` to fetch the model's environment and install dependencies using the resulting environment file.\n"
     ]
    },
    {
     "name": "stdout",
     "output_type": "stream",
     "text": [
      "[23:56:09] WARNING: /Users/runner/work/xgboost/xgboost/python-package/build/temp.macosx-11.0-arm64-cpython-38/xgboost/src/objective/regression_obj.cu:213: reg:linear is now deprecated in favor of reg:squarederror.\n",
      "CPU times: user 6.74 s, sys: 179 ms, total: 6.92 s\n",
      "Wall time: 999 ms\n"
     ]
    },
    {
     "data": {
      "text/plain": [
       "{'rmse': 6.322777437897471}"
      ]
     },
     "execution_count": 45,
     "metadata": {},
     "output_type": "execute_result"
    }
   ],
   "source": [
    "%time test_model(name=model_name, stage=\"Production\", X_test=X_test, y_test=y_test)"
   ]
  },
  {
   "cell_type": "code",
   "execution_count": 46,
   "metadata": {},
   "outputs": [
    {
     "name": "stderr",
     "output_type": "stream",
     "text": [
      "2023/05/30 23:56:47 WARNING mlflow.pyfunc: Detected one or more mismatches between the model's dependencies and the current Python environment:\n",
      " - mlflow (current: 2.3.2, required: mlflow==2.3)\n",
      "To fix the mismatches, call `mlflow.pyfunc.get_model_dependencies(model_uri)` to fetch the model's environment and install dependencies using the resulting environment file.\n"
     ]
    },
    {
     "name": "stdout",
     "output_type": "stream",
     "text": [
      "[23:56:47] WARNING: /Users/runner/work/xgboost/xgboost/python-package/build/temp.macosx-11.0-arm64-cpython-38/xgboost/src/objective/regression_obj.cu:213: reg:linear is now deprecated in favor of reg:squarederror.\n",
      "CPU times: user 6.94 s, sys: 538 ms, total: 7.47 s\n",
      "Wall time: 889 ms\n"
     ]
    },
    {
     "data": {
      "text/plain": [
       "{'rmse': 6.322777437897471}"
      ]
     },
     "execution_count": 46,
     "metadata": {},
     "output_type": "execute_result"
    }
   ],
   "source": [
    "%time test_model(name=model_name, stage=\"Staging\", X_test=X_test, y_test=y_test)"
   ]
  },
  {
   "cell_type": "code",
   "execution_count": 47,
   "metadata": {},
   "outputs": [
    {
     "data": {
      "text/plain": [
       "<ModelVersion: aliases=[], creation_timestamp=1685468773581, current_stage='Production', description='The Model Version 2 was transitioned to Staging on 2023-05-30', last_updated_timestamp=1685471286957, name='nyc-taxi-regressor', run_id='718ab510c5e844e6ae3d0d9654424f29', run_link=None, source=('/Users/abhinav/Documents/workbench/personal/mlops/02-Experiment Tracking and '\n",
       " 'Model '\n",
       " 'Management/mlflow-scenario-examples/mlruns/1/718ab510c5e844e6ae3d0d9654424f29/artifacts/models_mlflow'), status='READY', status_message=None, tags={}, user_id=None, version=2>"
      ]
     },
     "execution_count": 47,
     "metadata": {},
     "output_type": "execute_result"
    }
   ],
   "source": [
    "client.transition_model_version_stage(\n",
    "    name=model_name,\n",
    "    version=2,\n",
    "    stage=\"Production\",\n",
    "    archive_existing_versions=True\n",
    ")"
   ]
  },
  {
   "cell_type": "code",
   "execution_count": null,
   "metadata": {},
   "outputs": [],
   "source": []
  }
 ],
 "metadata": {
  "kernelspec": {
   "display_name": "ml",
   "language": "python",
   "name": "python3"
  },
  "language_info": {
   "codemirror_mode": {
    "name": "ipython",
    "version": 3
   },
   "file_extension": ".py",
   "mimetype": "text/x-python",
   "name": "python",
   "nbconvert_exporter": "python",
   "pygments_lexer": "ipython3",
   "version": "3.10.10"
  },
  "orig_nbformat": 4
 },
 "nbformat": 4,
 "nbformat_minor": 2
}
